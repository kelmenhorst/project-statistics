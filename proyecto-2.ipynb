{
 "cells": [
  {
   "cell_type": "code",
   "execution_count": 1,
   "metadata": {},
   "outputs": [],
   "source": [
    "import pandas as pd\n",
    "import numpy as np\n",
    "import matplotlib.pyplot as plt\n",
    "import utils"
   ]
  },
  {
   "cell_type": "markdown",
   "metadata": {},
   "source": [
    "**2.¿Cómo podemos modelar estadísticamente una función que combina características en \"huellas dactilares\"?**\n",
    "* explorar corelaciones entre características (**Pearson**)\n",
    "* explorar espacio de características multi-dimensional\n",
    "\t* **PCA** para reducir dimensiones, algoritmos de clustering"
   ]
  },
  {
   "cell_type": "code",
   "execution_count": 2,
   "metadata": {},
   "outputs": [
    {
     "data": {
      "text/html": [
       "<div>\n",
       "<style scoped>\n",
       "    .dataframe tbody tr th:only-of-type {\n",
       "        vertical-align: middle;\n",
       "    }\n",
       "\n",
       "    .dataframe tbody tr th {\n",
       "        vertical-align: top;\n",
       "    }\n",
       "\n",
       "    .dataframe thead th {\n",
       "        text-align: right;\n",
       "    }\n",
       "</style>\n",
       "<table border=\"1\" class=\"dataframe\">\n",
       "  <thead>\n",
       "    <tr style=\"text-align: right;\">\n",
       "      <th></th>\n",
       "      <th>domain</th>\n",
       "      <th>avg_read_bytes</th>\n",
       "      <th>total_read_bytes</th>\n",
       "      <th>max_read_burst_len</th>\n",
       "      <th>avg_iat</th>\n",
       "    </tr>\n",
       "  </thead>\n",
       "  <tbody>\n",
       "    <tr>\n",
       "      <th>0</th>\n",
       "      <td>www.facebook.com</td>\n",
       "      <td>1081.000000</td>\n",
       "      <td>3243</td>\n",
       "      <td>3</td>\n",
       "      <td>0.002967</td>\n",
       "    </tr>\n",
       "    <tr>\n",
       "      <th>1</th>\n",
       "      <td>twitter.com</td>\n",
       "      <td>1556.888889</td>\n",
       "      <td>14012</td>\n",
       "      <td>3</td>\n",
       "      <td>0.012304</td>\n",
       "    </tr>\n",
       "    <tr>\n",
       "      <th>2</th>\n",
       "      <td>twitter.com</td>\n",
       "      <td>1750.500000</td>\n",
       "      <td>7002</td>\n",
       "      <td>2</td>\n",
       "      <td>0.000779</td>\n",
       "    </tr>\n",
       "    <tr>\n",
       "      <th>3</th>\n",
       "      <td>www.instagram.com</td>\n",
       "      <td>1166.666667</td>\n",
       "      <td>7000</td>\n",
       "      <td>3</td>\n",
       "      <td>0.000143</td>\n",
       "    </tr>\n",
       "    <tr>\n",
       "      <th>4</th>\n",
       "      <td>www.youtube.com</td>\n",
       "      <td>3385.600000</td>\n",
       "      <td>135424</td>\n",
       "      <td>2</td>\n",
       "      <td>0.043140</td>\n",
       "    </tr>\n",
       "    <tr>\n",
       "      <th>...</th>\n",
       "      <td>...</td>\n",
       "      <td>...</td>\n",
       "      <td>...</td>\n",
       "      <td>...</td>\n",
       "      <td>...</td>\n",
       "    </tr>\n",
       "    <tr>\n",
       "      <th>10123</th>\n",
       "      <td>www.facebook.com</td>\n",
       "      <td>1080.500000</td>\n",
       "      <td>6483</td>\n",
       "      <td>3</td>\n",
       "      <td>0.000318</td>\n",
       "    </tr>\n",
       "    <tr>\n",
       "      <th>10124</th>\n",
       "      <td>www.instagram.com</td>\n",
       "      <td>1167.000000</td>\n",
       "      <td>7002</td>\n",
       "      <td>3</td>\n",
       "      <td>0.005453</td>\n",
       "    </tr>\n",
       "    <tr>\n",
       "      <th>10125</th>\n",
       "      <td>www.facebook.com</td>\n",
       "      <td>1085.000000</td>\n",
       "      <td>6510</td>\n",
       "      <td>3</td>\n",
       "      <td>0.052422</td>\n",
       "    </tr>\n",
       "    <tr>\n",
       "      <th>10126</th>\n",
       "      <td>twitter.com</td>\n",
       "      <td>1751.500000</td>\n",
       "      <td>14012</td>\n",
       "      <td>2</td>\n",
       "      <td>0.034488</td>\n",
       "    </tr>\n",
       "    <tr>\n",
       "      <th>10127</th>\n",
       "      <td>www.instagram.com</td>\n",
       "      <td>1167.000000</td>\n",
       "      <td>7002</td>\n",
       "      <td>3</td>\n",
       "      <td>0.000973</td>\n",
       "    </tr>\n",
       "  </tbody>\n",
       "</table>\n",
       "<p>10128 rows × 5 columns</p>\n",
       "</div>"
      ],
      "text/plain": [
       "                  domain  avg_read_bytes  total_read_bytes  \\\n",
       "0       www.facebook.com     1081.000000              3243   \n",
       "1            twitter.com     1556.888889             14012   \n",
       "2            twitter.com     1750.500000              7002   \n",
       "3      www.instagram.com     1166.666667              7000   \n",
       "4        www.youtube.com     3385.600000            135424   \n",
       "...                  ...             ...               ...   \n",
       "10123   www.facebook.com     1080.500000              6483   \n",
       "10124  www.instagram.com     1167.000000              7002   \n",
       "10125   www.facebook.com     1085.000000              6510   \n",
       "10126        twitter.com     1751.500000             14012   \n",
       "10127  www.instagram.com     1167.000000              7002   \n",
       "\n",
       "       max_read_burst_len   avg_iat  \n",
       "0                       3  0.002967  \n",
       "1                       3  0.012304  \n",
       "2                       2  0.000779  \n",
       "3                       3  0.000143  \n",
       "4                       2  0.043140  \n",
       "...                   ...       ...  \n",
       "10123                   3  0.000318  \n",
       "10124                   3  0.005453  \n",
       "10125                   3  0.052422  \n",
       "10126                   2  0.034488  \n",
       "10127                   3  0.000973  \n",
       "\n",
       "[10128 rows x 5 columns]"
      ]
     },
     "execution_count": 2,
     "metadata": {},
     "output_type": "execute_result"
    }
   ],
   "source": [
    "date = \"1112\"\n",
    "df_flows = utils.get_flow_df(date)\n",
    "df_flows_simple = utils.get_flow_df_simple(date)\n",
    "df_packets = utils.get_packet_df(date)\n",
    "df_packets_simple = utils.get_packet_df_simple(date)\n",
    "df_flows_simple[[\"domain\", \"avg_read_bytes\", \"total_read_bytes\", \"max_read_burst_len\", \"avg_iat\"]]"
   ]
  },
  {
   "cell_type": "markdown",
   "metadata": {},
   "source": [
    "# PCA"
   ]
  },
  {
   "cell_type": "code",
   "execution_count": 3,
   "metadata": {},
   "outputs": [],
   "source": [
    "from sklearn.preprocessing import StandardScaler\n",
    "from sklearn.decomposition import PCA"
   ]
  },
  {
   "cell_type": "markdown",
   "metadata": {},
   "source": [
    "### Flows"
   ]
  },
  {
   "cell_type": "code",
   "execution_count": 4,
   "metadata": {},
   "outputs": [
    {
     "data": {
      "text/plain": [
       "numpy.ndarray"
      ]
     },
     "execution_count": 4,
     "metadata": {},
     "output_type": "execute_result"
    }
   ],
   "source": [
    "features = [\"total_read_bytes\", \"avg_read_bytes\", \"avg_iat\", \"max_read_burst_len\"]\n",
    "\n",
    "# Separating out the features\n",
    "x = df_flows_simple.loc[:, features]\n",
    "\n",
    "# Separating out the target\n",
    "y = df_flows_simple.loc[:,['domain']].values\n",
    "\n",
    "# Standardizing the features\n",
    "X = StandardScaler().fit_transform(x)\n",
    "# X = pd.DataFrame(x_scaled, columns = x.columns)\n",
    "\n",
    "type(X)"
   ]
  },
  {
   "cell_type": "markdown",
   "metadata": {},
   "source": [
    "**Project to 2D**\n",
    "Find 2 principal eigenvectors (principal components)"
   ]
  },
  {
   "cell_type": "code",
   "execution_count": 5,
   "metadata": {},
   "outputs": [],
   "source": [
    "pca = PCA(n_components=2)\n",
    "\n",
    "principalComponents = pca.fit_transform(X)\n",
    "\n",
    "principalDf = pd.DataFrame(data = principalComponents, columns = ['pc 1', 'pc 2'])\n",
    "principalDf = principalDf.dropna()"
   ]
  },
  {
   "cell_type": "code",
   "execution_count": 6,
   "metadata": {},
   "outputs": [
    {
     "data": {
      "text/html": [
       "<div>\n",
       "<style scoped>\n",
       "    .dataframe tbody tr th:only-of-type {\n",
       "        vertical-align: middle;\n",
       "    }\n",
       "\n",
       "    .dataframe tbody tr th {\n",
       "        vertical-align: top;\n",
       "    }\n",
       "\n",
       "    .dataframe thead th {\n",
       "        text-align: right;\n",
       "    }\n",
       "</style>\n",
       "<table border=\"1\" class=\"dataframe\">\n",
       "  <thead>\n",
       "    <tr style=\"text-align: right;\">\n",
       "      <th></th>\n",
       "      <th>pc 1</th>\n",
       "      <th>pc 2</th>\n",
       "      <th>domain</th>\n",
       "    </tr>\n",
       "  </thead>\n",
       "  <tbody>\n",
       "    <tr>\n",
       "      <th>0</th>\n",
       "      <td>-0.881974</td>\n",
       "      <td>-0.049698</td>\n",
       "      <td>www.facebook.com</td>\n",
       "    </tr>\n",
       "    <tr>\n",
       "      <th>1</th>\n",
       "      <td>-0.414470</td>\n",
       "      <td>0.010890</td>\n",
       "      <td>twitter.com</td>\n",
       "    </tr>\n",
       "    <tr>\n",
       "      <th>2</th>\n",
       "      <td>-0.604395</td>\n",
       "      <td>0.047813</td>\n",
       "      <td>twitter.com</td>\n",
       "    </tr>\n",
       "    <tr>\n",
       "      <th>3</th>\n",
       "      <td>-0.775849</td>\n",
       "      <td>-0.057140</td>\n",
       "      <td>www.instagram.com</td>\n",
       "    </tr>\n",
       "    <tr>\n",
       "      <th>4</th>\n",
       "      <td>2.145585</td>\n",
       "      <td>0.258805</td>\n",
       "      <td>www.youtube.com</td>\n",
       "    </tr>\n",
       "    <tr>\n",
       "      <th>...</th>\n",
       "      <td>...</td>\n",
       "      <td>...</td>\n",
       "      <td>...</td>\n",
       "    </tr>\n",
       "    <tr>\n",
       "      <th>10123</th>\n",
       "      <td>-0.842289</td>\n",
       "      <td>-0.061405</td>\n",
       "      <td>www.facebook.com</td>\n",
       "    </tr>\n",
       "    <tr>\n",
       "      <th>10124</th>\n",
       "      <td>-0.774711</td>\n",
       "      <td>-0.036369</td>\n",
       "      <td>www.instagram.com</td>\n",
       "    </tr>\n",
       "    <tr>\n",
       "      <th>10125</th>\n",
       "      <td>-0.830168</td>\n",
       "      <td>0.142501</td>\n",
       "      <td>www.facebook.com</td>\n",
       "    </tr>\n",
       "    <tr>\n",
       "      <th>10126</th>\n",
       "      <td>-0.510537</td>\n",
       "      <td>0.176757</td>\n",
       "      <td>twitter.com</td>\n",
       "    </tr>\n",
       "    <tr>\n",
       "      <th>10127</th>\n",
       "      <td>-0.775455</td>\n",
       "      <td>-0.053879</td>\n",
       "      <td>www.instagram.com</td>\n",
       "    </tr>\n",
       "  </tbody>\n",
       "</table>\n",
       "<p>10128 rows × 3 columns</p>\n",
       "</div>"
      ],
      "text/plain": [
       "           pc 1      pc 2             domain\n",
       "0     -0.881974 -0.049698   www.facebook.com\n",
       "1     -0.414470  0.010890        twitter.com\n",
       "2     -0.604395  0.047813        twitter.com\n",
       "3     -0.775849 -0.057140  www.instagram.com\n",
       "4      2.145585  0.258805    www.youtube.com\n",
       "...         ...       ...                ...\n",
       "10123 -0.842289 -0.061405   www.facebook.com\n",
       "10124 -0.774711 -0.036369  www.instagram.com\n",
       "10125 -0.830168  0.142501   www.facebook.com\n",
       "10126 -0.510537  0.176757        twitter.com\n",
       "10127 -0.775455 -0.053879  www.instagram.com\n",
       "\n",
       "[10128 rows x 3 columns]"
      ]
     },
     "execution_count": 6,
     "metadata": {},
     "output_type": "execute_result"
    }
   ],
   "source": [
    "finalDf = pd.concat([principalDf, df_flows_simple[['domain']]], axis = 1)\n",
    "finalDf = finalDf.dropna()\n",
    "finalDf"
   ]
  },
  {
   "cell_type": "markdown",
   "metadata": {},
   "source": [
    "**Visualize**"
   ]
  },
  {
   "cell_type": "code",
   "execution_count": 7,
   "metadata": {},
   "outputs": [
    {
     "data": {
      "image/png": "[encoded data removed]",
      "text/plain": [
       "<Figure size 800x800 with 1 Axes>"
      ]
     },
     "metadata": {},
     "output_type": "display_data"
    }
   ],
   "source": [
    "compare = [\"www.youtube.com\", \"www.instagram.com\", \"www.facebook.com\", \"twitter.com\"]\n",
    "fig = plt.figure(figsize = (8,8))\n",
    "ax = fig.add_subplot(1,1,1) \n",
    "ax.set_xlabel('PC 1', fontsize = 15)\n",
    "ax.set_ylabel('PC 2', fontsize = 15)\n",
    "ax.set_title('PCA', fontsize = 20)\n",
    "\n",
    "colors = ['r', 'b', \"g\", \"c\"]\n",
    "for target, color in zip(compare, colors):\n",
    "    indicesToKeep = finalDf['domain'] == target\n",
    "    ax.scatter(finalDf.loc[indicesToKeep, \"pc 1\"], finalDf.loc[indicesToKeep, 'pc 2'], c = color, s = 10)\n",
    "ax.legend(compare)\n",
    "ax.set_ylim(-5, 7)\n",
    "ax.set_xlim(right=5 )\n",
    "ax.grid()"
   ]
  },
  {
   "cell_type": "markdown",
   "metadata": {},
   "source": [
    "I don't get why PCA clusering fails."
   ]
  }
 ],
 "metadata": {
  "kernelspec": {
   "display_name": "venv_proyecto",
   "language": "python",
   "name": "python3"
  },
  "language_info": {
   "codemirror_mode": {
    "name": "ipython",
    "version": 3
   },
   "file_extension": ".py",
   "mimetype": "text/x-python",
   "name": "python",
   "nbconvert_exporter": "python",
   "pygments_lexer": "ipython3",
   "version": "3.8.10"
  }
 },
 "nbformat": 4,
 "nbformat_minor": 2
}
